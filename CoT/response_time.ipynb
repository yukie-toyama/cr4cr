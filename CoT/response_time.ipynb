{
 "cells": [
  {
   "cell_type": "code",
   "execution_count": 1,
   "metadata": {},
   "outputs": [
    {
     "name": "stdout",
     "output_type": "stream",
     "text": [
      "✅ Saved full summary with percentiles to no_pause_summary_full.csv\n"
     ]
    }
   ],
   "source": [
    "import pandas as pd \n",
    "from datetime import datetime\n",
    "\n",
    "#  CONFIG \n",
    "filename = \"Spring 2025 CoT HS Administration respondent actions - Spring 2025 CoT HS Administration respondent actions.csv\"\n",
    "time_format = \"%m/%d/%Y %H:%M:%S\"  # adjust if needed\n",
    "\n",
    "# LOAD CSV INTO DATAFRAME \n",
    "df = pd.read_csv(filename)\n",
    "\n",
    "# Merge Date + Time into one column\n",
    "df[\"DateTime\"] = pd.to_datetime(df[\"Date\"] + \" \" + df[\"Time\"], format=time_format)\n",
    "\n",
    "# Identify pause users \n",
    "pause_flags = df.groupby([\"Assignment\",\"Activities\"])[\"Action\"].apply(\n",
    "    lambda x: any(\"Pause activity\" in a for a in x)\n",
    ").reset_index(name=\"HasPause\")\n",
    "\n",
    "# Get start/end times \n",
    "def get_times(group):\n",
    "    start = group.loc[group[\"Action\"].str.contains(\"Begin activity\"), \"DateTime\"].min()\n",
    "    end = group.loc[group[\"Action\"].str.contains(\"End activity\"), \"DateTime\"].max()\n",
    "    return pd.Series({\"Start\": start, \"End\": end})\n",
    "\n",
    "times = df.groupby([\"Assignment\",\"Activities\"]).apply(get_times).reset_index()\n",
    "times[\"Duration\"] = times[\"End\"] - times[\"Start\"]\n",
    "\n",
    "#  Keep only same-day exams \n",
    "times = times[times[\"Start\"].dt.date == times[\"End\"].dt.date]\n",
    "\n",
    "# Merge and subset no-pause\n",
    "merged = times.merge(pause_flags, on=[\"Assignment\",\"Activities\"])\n",
    "no_pause = merged[merged[\"HasPause\"] == False]\n",
    "\n",
    "# Compute summary stats \n",
    "def duration_summary(x):\n",
    "    return pd.Series({\n",
    "        \"Mean\": x.mean(),\n",
    "        \"SD\": x.std(),\n",
    "        \"Min\": x.min(),\n",
    "        \"Max\": x.max(),\n",
    "        \"Median\": x.median(),\n",
    "        \"n\": x.count(),\n",
    "        \"P25\": x.quantile(0.25),\n",
    "        \"P75\": x.quantile(0.75),\n",
    "        \"P90\": x.quantile(0.90)\n",
    "    })\n",
    "\n",
    "summary = (\n",
    "    no_pause.groupby([\"Activities\"])[\"Duration\"]\n",
    "    .apply(duration_summary)\n",
    "    .reset_index()\n",
    ")\n",
    "\n",
    "# --- Save to CSV ---\n",
    "output_file = \"no_pause_summary_full.csv\"\n",
    "summary.to_csv(output_file, index=False)\n",
    "\n",
    "print(f\"✅ Saved full summary with percentiles to {output_file}\")"
   ]
  },
  {
   "cell_type": "code",
   "execution_count": 2,
   "metadata": {},
   "outputs": [
    {
     "name": "stdout",
     "output_type": "stream",
     "text": [
      "\n",
      "🕒 Horizontal summary table created!\n",
      "\n",
      "         Activities      Max               Mean          Median      Min             P25             P75             P90                 SD  n\n",
      " Spr 25 CoT Form A1 02:23:40 00:31:11.111111111        00:26:16 00:02:17 00:08:20.750000        00:37:59 01:10:23.500000 00:30:55.257098514 36\n",
      "Spr 25 CoT Form A1r 01:50:54 00:34:43.678571428 00:36:34.500000 00:05:59 00:15:37.500000 00:46:20.750000 00:55:55.600000 00:22:43.398532903 28\n",
      " Spr 25 CoT Form B1 03:49:04 00:28:48.431818181        00:22:58 00:05:26 00:09:25.750000 00:39:16.250000 00:42:15.600000 00:34:06.999226295 44\n",
      "Spr 25 CoT Form B1r 04:20:19    00:32:47.175000        00:24:46 00:03:50 00:06:49.250000        00:38:43 01:03:11.100000 00:42:26.881732301 40\n",
      "\n",
      "✅ Saved to no_pause_summary_horizontal.csv\n"
     ]
    }
   ],
   "source": [
    "import pandas as pd\n",
    "\n",
    "# Load the existing long summary\n",
    "df = pd.read_csv(\"no_pause_summary_full.csv\")\n",
    "\n",
    "# Pivot from long → wide\n",
    "wide = df.pivot(index=\"Activities\", columns=\"level_1\", values=\"Duration\").reset_index()\n",
    "\n",
    "# Clean up column names\n",
    "wide.columns.name = None\n",
    "wide.columns = [\"Activities\"] + list(wide.columns[1:])\n",
    "\n",
    "# Remove '0 days' and 'days' text\n",
    "for col in wide.columns:\n",
    "    if col != \"Activities\":\n",
    "        wide[col] = wide[col].astype(str).str.replace(\"0 days \", \"\").str.replace(\"days\", \"\").str.strip()\n",
    "\n",
    "# Save to a new CSV\n",
    "output_file = \"no_pause_summary_horizontal.csv\"\n",
    "wide.to_csv(output_file, index=False)\n",
    "\n",
    "# Print preview\n",
    "print(\"\\n🕒 Horizontal summary table created!\\n\")\n",
    "print(wide.to_string(index=False))\n",
    "print(f\"\\n✅ Saved to {output_file}\")\n"
   ]
  }
 ],
 "metadata": {
  "kernelspec": {
   "display_name": "base",
   "language": "python",
   "name": "python3"
  },
  "language_info": {
   "codemirror_mode": {
    "name": "ipython",
    "version": 3
   },
   "file_extension": ".py",
   "mimetype": "text/x-python",
   "name": "python",
   "nbconvert_exporter": "python",
   "pygments_lexer": "ipython3",
   "version": "3.11.7"
  }
 },
 "nbformat": 4,
 "nbformat_minor": 2
}
